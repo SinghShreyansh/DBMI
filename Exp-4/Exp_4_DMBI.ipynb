{
  "nbformat": 4,
  "nbformat_minor": 0,
  "metadata": {
    "colab": {
      "provenance": []
    },
    "kernelspec": {
      "name": "python3",
      "display_name": "Python 3"
    },
    "language_info": {
      "name": "python"
    }
  },
  "cells": [
    {
      "cell_type": "markdown",
      "source": [
        "#Classification model using In-Built Library\n"
      ],
      "metadata": {
        "id": "pzjhvLchxO4z"
      }
    },
    {
      "cell_type": "markdown",
      "source": [
        "**Import libraries**"
      ],
      "metadata": {
        "id": "mH6-lQF2xRCJ"
      }
    },
    {
      "cell_type": "code",
      "source": [
        "import numpy as np\n",
        "import pandas as pd"
      ],
      "metadata": {
        "id": "DTzIqcfrxTsi"
      },
      "execution_count": 2,
      "outputs": []
    },
    {
      "cell_type": "markdown",
      "source": [
        "\n",
        "Loading data\n",
        "**bold text**\n"
      ],
      "metadata": {
        "id": "uW839TarxYW-"
      }
    },
    {
      "cell_type": "code",
      "source": [
        "# Reading data\n",
        "data = pd.read_csv(\"loan_data.csv\").dropna()\n",
        "data.head(5)"
      ],
      "metadata": {
        "colab": {
          "base_uri": "https://localhost:8080/",
          "height": 250
        },
        "id": "zGpXGFrixbtu",
        "outputId": "d80c116c-7af5-4ed9-8f18-91f1e6bc5728"
      },
      "execution_count": 3,
      "outputs": [
        {
          "output_type": "execute_result",
          "data": {
            "text/plain": [
              "   credit.policy             purpose  int.rate  installment  log.annual.inc  \\\n",
              "0              1  debt_consolidation    0.1189       829.10       11.350407   \n",
              "1              1         credit_card    0.1071       228.22       11.082143   \n",
              "2              1  debt_consolidation    0.1357       366.86       10.373491   \n",
              "3              1  debt_consolidation    0.1008       162.34       11.350407   \n",
              "4              1         credit_card    0.1426       102.92       11.299732   \n",
              "\n",
              "     dti   fico  days.with.cr.line  revol.bal  revol.util  inq.last.6mths  \\\n",
              "0  19.48  737.0        5639.958333      28854        52.1               0   \n",
              "1  14.29  707.0        2760.000000      33623        76.7               0   \n",
              "2  11.63  682.0        4710.000000       3511        25.6               1   \n",
              "3   8.10  712.0        2699.958333      33667        73.2               1   \n",
              "4  14.97  667.0        4066.000000       4740        39.5               0   \n",
              "\n",
              "   delinq.2yrs  pub.rec  not.fully.paid  \n",
              "0            0        0               0  \n",
              "1            0        0               0  \n",
              "2            0        0               0  \n",
              "3            0        0               0  \n",
              "4            1        0               0  "
            ],
            "text/html": [
              "\n",
              "  <div id=\"df-9a6e034f-f921-4462-a5d5-56805e1e272f\">\n",
              "    <div class=\"colab-df-container\">\n",
              "      <div>\n",
              "<style scoped>\n",
              "    .dataframe tbody tr th:only-of-type {\n",
              "        vertical-align: middle;\n",
              "    }\n",
              "\n",
              "    .dataframe tbody tr th {\n",
              "        vertical-align: top;\n",
              "    }\n",
              "\n",
              "    .dataframe thead th {\n",
              "        text-align: right;\n",
              "    }\n",
              "</style>\n",
              "<table border=\"1\" class=\"dataframe\">\n",
              "  <thead>\n",
              "    <tr style=\"text-align: right;\">\n",
              "      <th></th>\n",
              "      <th>credit.policy</th>\n",
              "      <th>purpose</th>\n",
              "      <th>int.rate</th>\n",
              "      <th>installment</th>\n",
              "      <th>log.annual.inc</th>\n",
              "      <th>dti</th>\n",
              "      <th>fico</th>\n",
              "      <th>days.with.cr.line</th>\n",
              "      <th>revol.bal</th>\n",
              "      <th>revol.util</th>\n",
              "      <th>inq.last.6mths</th>\n",
              "      <th>delinq.2yrs</th>\n",
              "      <th>pub.rec</th>\n",
              "      <th>not.fully.paid</th>\n",
              "    </tr>\n",
              "  </thead>\n",
              "  <tbody>\n",
              "    <tr>\n",
              "      <th>0</th>\n",
              "      <td>1</td>\n",
              "      <td>debt_consolidation</td>\n",
              "      <td>0.1189</td>\n",
              "      <td>829.10</td>\n",
              "      <td>11.350407</td>\n",
              "      <td>19.48</td>\n",
              "      <td>737.0</td>\n",
              "      <td>5639.958333</td>\n",
              "      <td>28854</td>\n",
              "      <td>52.1</td>\n",
              "      <td>0</td>\n",
              "      <td>0</td>\n",
              "      <td>0</td>\n",
              "      <td>0</td>\n",
              "    </tr>\n",
              "    <tr>\n",
              "      <th>1</th>\n",
              "      <td>1</td>\n",
              "      <td>credit_card</td>\n",
              "      <td>0.1071</td>\n",
              "      <td>228.22</td>\n",
              "      <td>11.082143</td>\n",
              "      <td>14.29</td>\n",
              "      <td>707.0</td>\n",
              "      <td>2760.000000</td>\n",
              "      <td>33623</td>\n",
              "      <td>76.7</td>\n",
              "      <td>0</td>\n",
              "      <td>0</td>\n",
              "      <td>0</td>\n",
              "      <td>0</td>\n",
              "    </tr>\n",
              "    <tr>\n",
              "      <th>2</th>\n",
              "      <td>1</td>\n",
              "      <td>debt_consolidation</td>\n",
              "      <td>0.1357</td>\n",
              "      <td>366.86</td>\n",
              "      <td>10.373491</td>\n",
              "      <td>11.63</td>\n",
              "      <td>682.0</td>\n",
              "      <td>4710.000000</td>\n",
              "      <td>3511</td>\n",
              "      <td>25.6</td>\n",
              "      <td>1</td>\n",
              "      <td>0</td>\n",
              "      <td>0</td>\n",
              "      <td>0</td>\n",
              "    </tr>\n",
              "    <tr>\n",
              "      <th>3</th>\n",
              "      <td>1</td>\n",
              "      <td>debt_consolidation</td>\n",
              "      <td>0.1008</td>\n",
              "      <td>162.34</td>\n",
              "      <td>11.350407</td>\n",
              "      <td>8.10</td>\n",
              "      <td>712.0</td>\n",
              "      <td>2699.958333</td>\n",
              "      <td>33667</td>\n",
              "      <td>73.2</td>\n",
              "      <td>1</td>\n",
              "      <td>0</td>\n",
              "      <td>0</td>\n",
              "      <td>0</td>\n",
              "    </tr>\n",
              "    <tr>\n",
              "      <th>4</th>\n",
              "      <td>1</td>\n",
              "      <td>credit_card</td>\n",
              "      <td>0.1426</td>\n",
              "      <td>102.92</td>\n",
              "      <td>11.299732</td>\n",
              "      <td>14.97</td>\n",
              "      <td>667.0</td>\n",
              "      <td>4066.000000</td>\n",
              "      <td>4740</td>\n",
              "      <td>39.5</td>\n",
              "      <td>0</td>\n",
              "      <td>1</td>\n",
              "      <td>0</td>\n",
              "      <td>0</td>\n",
              "    </tr>\n",
              "  </tbody>\n",
              "</table>\n",
              "</div>\n",
              "      <button class=\"colab-df-convert\" onclick=\"convertToInteractive('df-9a6e034f-f921-4462-a5d5-56805e1e272f')\"\n",
              "              title=\"Convert this dataframe to an interactive table.\"\n",
              "              style=\"display:none;\">\n",
              "        \n",
              "  <svg xmlns=\"http://www.w3.org/2000/svg\" height=\"24px\"viewBox=\"0 0 24 24\"\n",
              "       width=\"24px\">\n",
              "    <path d=\"M0 0h24v24H0V0z\" fill=\"none\"/>\n",
              "    <path d=\"M18.56 5.44l.94 2.06.94-2.06 2.06-.94-2.06-.94-.94-2.06-.94 2.06-2.06.94zm-11 1L8.5 8.5l.94-2.06 2.06-.94-2.06-.94L8.5 2.5l-.94 2.06-2.06.94zm10 10l.94 2.06.94-2.06 2.06-.94-2.06-.94-.94-2.06-.94 2.06-2.06.94z\"/><path d=\"M17.41 7.96l-1.37-1.37c-.4-.4-.92-.59-1.43-.59-.52 0-1.04.2-1.43.59L10.3 9.45l-7.72 7.72c-.78.78-.78 2.05 0 2.83L4 21.41c.39.39.9.59 1.41.59.51 0 1.02-.2 1.41-.59l7.78-7.78 2.81-2.81c.8-.78.8-2.07 0-2.86zM5.41 20L4 18.59l7.72-7.72 1.47 1.35L5.41 20z\"/>\n",
              "  </svg>\n",
              "      </button>\n",
              "      \n",
              "  <style>\n",
              "    .colab-df-container {\n",
              "      display:flex;\n",
              "      flex-wrap:wrap;\n",
              "      gap: 12px;\n",
              "    }\n",
              "\n",
              "    .colab-df-convert {\n",
              "      background-color: #E8F0FE;\n",
              "      border: none;\n",
              "      border-radius: 50%;\n",
              "      cursor: pointer;\n",
              "      display: none;\n",
              "      fill: #1967D2;\n",
              "      height: 32px;\n",
              "      padding: 0 0 0 0;\n",
              "      width: 32px;\n",
              "    }\n",
              "\n",
              "    .colab-df-convert:hover {\n",
              "      background-color: #E2EBFA;\n",
              "      box-shadow: 0px 1px 2px rgba(60, 64, 67, 0.3), 0px 1px 3px 1px rgba(60, 64, 67, 0.15);\n",
              "      fill: #174EA6;\n",
              "    }\n",
              "\n",
              "    [theme=dark] .colab-df-convert {\n",
              "      background-color: #3B4455;\n",
              "      fill: #D2E3FC;\n",
              "    }\n",
              "\n",
              "    [theme=dark] .colab-df-convert:hover {\n",
              "      background-color: #434B5C;\n",
              "      box-shadow: 0px 1px 3px 1px rgba(0, 0, 0, 0.15);\n",
              "      filter: drop-shadow(0px 1px 2px rgba(0, 0, 0, 0.3));\n",
              "      fill: #FFFFFF;\n",
              "    }\n",
              "  </style>\n",
              "\n",
              "      <script>\n",
              "        const buttonEl =\n",
              "          document.querySelector('#df-9a6e034f-f921-4462-a5d5-56805e1e272f button.colab-df-convert');\n",
              "        buttonEl.style.display =\n",
              "          google.colab.kernel.accessAllowed ? 'block' : 'none';\n",
              "\n",
              "        async function convertToInteractive(key) {\n",
              "          const element = document.querySelector('#df-9a6e034f-f921-4462-a5d5-56805e1e272f');\n",
              "          const dataTable =\n",
              "            await google.colab.kernel.invokeFunction('convertToInteractive',\n",
              "                                                     [key], {});\n",
              "          if (!dataTable) return;\n",
              "\n",
              "          const docLinkHtml = 'Like what you see? Visit the ' +\n",
              "            '<a target=\"_blank\" href=https://colab.research.google.com/notebooks/data_table.ipynb>data table notebook</a>'\n",
              "            + ' to learn more about interactive tables.';\n",
              "          element.innerHTML = '';\n",
              "          dataTable['output_type'] = 'display_data';\n",
              "          await google.colab.output.renderOutput(dataTable, element);\n",
              "          const docLink = document.createElement('div');\n",
              "          docLink.innerHTML = docLinkHtml;\n",
              "          element.appendChild(docLink);\n",
              "        }\n",
              "      </script>\n",
              "    </div>\n",
              "  </div>\n",
              "  "
            ]
          },
          "metadata": {},
          "execution_count": 3
        }
      ]
    },
    {
      "cell_type": "markdown",
      "source": [
        "**Train - Test Split**"
      ],
      "metadata": {
        "id": "6PgGtWjJxxpD"
      }
    },
    {
      "cell_type": "code",
      "source": [
        "X = data.drop('purpose', axis=1).iloc[:, :-1].values\n",
        "y = data.drop('purpose', axis=1).iloc[:, -1].values.reshape(-1,1)\n",
        "from sklearn.model_selection import train_test_split\n",
        "X_train, X_test, y_train, y_test = train_test_split(X, y, test_size = 0.3,random_state=42)\n"
      ],
      "metadata": {
        "id": "GqILewhbx5TH"
      },
      "execution_count": 4,
      "outputs": []
    },
    {
      "cell_type": "markdown",
      "source": [
        "**Training on Inbuilt DecisionTreeClassfier**"
      ],
      "metadata": {
        "id": "qBYAfwZSx8iw"
      }
    },
    {
      "cell_type": "code",
      "source": [
        "from sklearn.tree import DecisionTreeClassifier\n",
        "clf_model = DecisionTreeClassifier(criterion=\"gini\",max_depth=3)   \n",
        "clf_model.fit(X_train,y_train)"
      ],
      "metadata": {
        "colab": {
          "base_uri": "https://localhost:8080/",
          "height": 74
        },
        "id": "FcaaM4sGyArG",
        "outputId": "18c04322-cf3a-42e9-d29c-eacc3a857db7"
      },
      "execution_count": 5,
      "outputs": [
        {
          "output_type": "execute_result",
          "data": {
            "text/plain": [
              "DecisionTreeClassifier(max_depth=3)"
            ],
            "text/html": [
              "<style>#sk-container-id-1 {color: black;background-color: white;}#sk-container-id-1 pre{padding: 0;}#sk-container-id-1 div.sk-toggleable {background-color: white;}#sk-container-id-1 label.sk-toggleable__label {cursor: pointer;display: block;width: 100%;margin-bottom: 0;padding: 0.3em;box-sizing: border-box;text-align: center;}#sk-container-id-1 label.sk-toggleable__label-arrow:before {content: \"▸\";float: left;margin-right: 0.25em;color: #696969;}#sk-container-id-1 label.sk-toggleable__label-arrow:hover:before {color: black;}#sk-container-id-1 div.sk-estimator:hover label.sk-toggleable__label-arrow:before {color: black;}#sk-container-id-1 div.sk-toggleable__content {max-height: 0;max-width: 0;overflow: hidden;text-align: left;background-color: #f0f8ff;}#sk-container-id-1 div.sk-toggleable__content pre {margin: 0.2em;color: black;border-radius: 0.25em;background-color: #f0f8ff;}#sk-container-id-1 input.sk-toggleable__control:checked~div.sk-toggleable__content {max-height: 200px;max-width: 100%;overflow: auto;}#sk-container-id-1 input.sk-toggleable__control:checked~label.sk-toggleable__label-arrow:before {content: \"▾\";}#sk-container-id-1 div.sk-estimator input.sk-toggleable__control:checked~label.sk-toggleable__label {background-color: #d4ebff;}#sk-container-id-1 div.sk-label input.sk-toggleable__control:checked~label.sk-toggleable__label {background-color: #d4ebff;}#sk-container-id-1 input.sk-hidden--visually {border: 0;clip: rect(1px 1px 1px 1px);clip: rect(1px, 1px, 1px, 1px);height: 1px;margin: -1px;overflow: hidden;padding: 0;position: absolute;width: 1px;}#sk-container-id-1 div.sk-estimator {font-family: monospace;background-color: #f0f8ff;border: 1px dotted black;border-radius: 0.25em;box-sizing: border-box;margin-bottom: 0.5em;}#sk-container-id-1 div.sk-estimator:hover {background-color: #d4ebff;}#sk-container-id-1 div.sk-parallel-item::after {content: \"\";width: 100%;border-bottom: 1px solid gray;flex-grow: 1;}#sk-container-id-1 div.sk-label:hover label.sk-toggleable__label {background-color: #d4ebff;}#sk-container-id-1 div.sk-serial::before {content: \"\";position: absolute;border-left: 1px solid gray;box-sizing: border-box;top: 0;bottom: 0;left: 50%;z-index: 0;}#sk-container-id-1 div.sk-serial {display: flex;flex-direction: column;align-items: center;background-color: white;padding-right: 0.2em;padding-left: 0.2em;position: relative;}#sk-container-id-1 div.sk-item {position: relative;z-index: 1;}#sk-container-id-1 div.sk-parallel {display: flex;align-items: stretch;justify-content: center;background-color: white;position: relative;}#sk-container-id-1 div.sk-item::before, #sk-container-id-1 div.sk-parallel-item::before {content: \"\";position: absolute;border-left: 1px solid gray;box-sizing: border-box;top: 0;bottom: 0;left: 50%;z-index: -1;}#sk-container-id-1 div.sk-parallel-item {display: flex;flex-direction: column;z-index: 1;position: relative;background-color: white;}#sk-container-id-1 div.sk-parallel-item:first-child::after {align-self: flex-end;width: 50%;}#sk-container-id-1 div.sk-parallel-item:last-child::after {align-self: flex-start;width: 50%;}#sk-container-id-1 div.sk-parallel-item:only-child::after {width: 0;}#sk-container-id-1 div.sk-dashed-wrapped {border: 1px dashed gray;margin: 0 0.4em 0.5em 0.4em;box-sizing: border-box;padding-bottom: 0.4em;background-color: white;}#sk-container-id-1 div.sk-label label {font-family: monospace;font-weight: bold;display: inline-block;line-height: 1.2em;}#sk-container-id-1 div.sk-label-container {text-align: center;}#sk-container-id-1 div.sk-container {/* jupyter's `normalize.less` sets `[hidden] { display: none; }` but bootstrap.min.css set `[hidden] { display: none !important; }` so we also need the `!important` here to be able to override the default hidden behavior on the sphinx rendered scikit-learn.org. See: https://github.com/scikit-learn/scikit-learn/issues/21755 */display: inline-block !important;position: relative;}#sk-container-id-1 div.sk-text-repr-fallback {display: none;}</style><div id=\"sk-container-id-1\" class=\"sk-top-container\"><div class=\"sk-text-repr-fallback\"><pre>DecisionTreeClassifier(max_depth=3)</pre><b>In a Jupyter environment, please rerun this cell to show the HTML representation or trust the notebook. <br />On GitHub, the HTML representation is unable to render, please try loading this page with nbviewer.org.</b></div><div class=\"sk-container\" hidden><div class=\"sk-item\"><div class=\"sk-estimator sk-toggleable\"><input class=\"sk-toggleable__control sk-hidden--visually\" id=\"sk-estimator-id-1\" type=\"checkbox\" checked><label for=\"sk-estimator-id-1\" class=\"sk-toggleable__label sk-toggleable__label-arrow\">DecisionTreeClassifier</label><div class=\"sk-toggleable__content\"><pre>DecisionTreeClassifier(max_depth=3)</pre></div></div></div></div></div>"
            ]
          },
          "metadata": {},
          "execution_count": 5
        }
      ]
    },
    {
      "cell_type": "code",
      "source": [
        "from sklearn import tree\n",
        "import matplotlib.pyplot as plt\n",
        "\n",
        "plt.figure(figsize=(15,12))\n",
        "tree.plot_tree(clf_model)"
      ],
      "metadata": {
        "colab": {
          "base_uri": "https://localhost:8080/",
          "height": 943
        },
        "id": "gcW5T38xyFhS",
        "outputId": "86985d32-3362-462d-9eb3-1530fb06c16f"
      },
      "execution_count": 6,
      "outputs": [
        {
          "output_type": "execute_result",
          "data": {
            "text/plain": [
              "[Text(0.5, 0.875, 'x[0] <= 0.5\\ngini = 0.272\\nsamples = 6703\\nvalue = [5615, 1088]'),\n",
              " Text(0.25, 0.625, 'x[5] <= 639.5\\ngini = 0.4\\nsamples = 1304\\nvalue = [944, 360]'),\n",
              " Text(0.125, 0.375, 'x[10] <= 0.5\\ngini = 0.198\\nsamples = 9\\nvalue = [1, 8]'),\n",
              " Text(0.0625, 0.125, 'gini = 0.0\\nsamples = 8\\nvalue = [0, 8]'),\n",
              " Text(0.1875, 0.125, 'gini = 0.0\\nsamples = 1\\nvalue = [1, 0]'),\n",
              " Text(0.375, 0.375, 'x[9] <= 5.5\\ngini = 0.396\\nsamples = 1295\\nvalue = [943, 352]'),\n",
              " Text(0.3125, 0.125, 'gini = 0.37\\nsamples = 1000\\nvalue = [755, 245]'),\n",
              " Text(0.4375, 0.125, 'gini = 0.462\\nsamples = 295\\nvalue = [188, 107]'),\n",
              " Text(0.75, 0.625, 'x[1] <= 0.112\\ngini = 0.233\\nsamples = 5399\\nvalue = [4671, 728]'),\n",
              " Text(0.625, 0.375, 'x[8] <= 98.55\\ngini = 0.152\\nsamples = 1988\\nvalue = [1823, 165]'),\n",
              " Text(0.5625, 0.125, 'gini = 0.151\\nsamples = 1986\\nvalue = [1823, 163]'),\n",
              " Text(0.6875, 0.125, 'gini = 0.0\\nsamples = 2\\nvalue = [0, 2]'),\n",
              " Text(0.875, 0.375, 'x[2] <= 879.885\\ngini = 0.276\\nsamples = 3411\\nvalue = [2848, 563]'),\n",
              " Text(0.8125, 0.125, 'gini = 0.272\\nsamples = 3392\\nvalue = [2841, 551]'),\n",
              " Text(0.9375, 0.125, 'gini = 0.465\\nsamples = 19\\nvalue = [7, 12]')]"
            ]
          },
          "metadata": {},
          "execution_count": 6
        },
        {
          "output_type": "display_data",
          "data": {
            "text/plain": [
              "<Figure size 1080x864 with 1 Axes>"
            ],
            "image/png": "[encoded data removed]"
          },
          "metadata": {
            "needs_background": "light"
          }
        }
      ]
    },
    {
      "cell_type": "markdown",
      "source": [
        "**Prediction Analysis**"
      ],
      "metadata": {
        "id": "Fq_8NGjByJYq"
      }
    },
    {
      "cell_type": "code",
      "source": [
        "y_predict = clf_model.predict(X_test)\n"
      ],
      "metadata": {
        "id": "eEyZY_eTyLT7"
      },
      "execution_count": 7,
      "outputs": []
    },
    {
      "cell_type": "code",
      "source": [
        "from sklearn.metrics import accuracy_score, classification_report, confusion_matrix\n",
        "print(classification_report(y_test, y_predict))\n"
      ],
      "metadata": {
        "colab": {
          "base_uri": "https://localhost:8080/"
        },
        "id": "q2SxTNuAyNVd",
        "outputId": "00c4082b-55e0-4c75-b5ac-d4335960efb3"
      },
      "execution_count": 8,
      "outputs": [
        {
          "output_type": "stream",
          "name": "stdout",
          "text": [
            "              precision    recall  f1-score   support\n",
            "\n",
            "           0       0.85      0.99      0.91      2429\n",
            "           1       0.22      0.01      0.02       444\n",
            "\n",
            "    accuracy                           0.84      2873\n",
            "   macro avg       0.53      0.50      0.47      2873\n",
            "weighted avg       0.75      0.84      0.78      2873\n",
            "\n"
          ]
        }
      ]
    },
    {
      "cell_type": "code",
      "source": [
        "cm = confusion_matrix(y_test, y_predict)\n",
        "print(cm)"
      ],
      "metadata": {
        "colab": {
          "base_uri": "https://localhost:8080/"
        },
        "id": "jc5vOOmGyQnJ",
        "outputId": "171df474-6796-4e92-f66e-9e89297f6447"
      },
      "execution_count": 9,
      "outputs": [
        {
          "output_type": "stream",
          "name": "stdout",
          "text": [
            "[[2415   14]\n",
            " [ 440    4]]\n"
          ]
        }
      ]
    },
    {
      "cell_type": "code",
      "source": [
        "accuracy_score(y_test,y_predict)\n"
      ],
      "metadata": {
        "colab": {
          "base_uri": "https://localhost:8080/"
        },
        "id": "ejIy3nTRyTe_",
        "outputId": "9ab132c1-f8d7-4a05-a913-48c6da6b6449"
      },
      "execution_count": 10,
      "outputs": [
        {
          "output_type": "execute_result",
          "data": {
            "text/plain": [
              "0.8419770274973895"
            ]
          },
          "metadata": {},
          "execution_count": 10
        }
      ]
    },
    {
      "cell_type": "markdown",
      "source": [
        "**Training on Inbuilt Gaussian Naive Bayes Classifier**"
      ],
      "metadata": {
        "id": "NQ7wV7ZayW-9"
      }
    },
    {
      "cell_type": "code",
      "source": [
        "from sklearn.naive_bayes import GaussianNB\n",
        "gnb = GaussianNB()\n",
        "gnb.fit(X_train, y_train)"
      ],
      "metadata": {
        "colab": {
          "base_uri": "https://localhost:8080/",
          "height": 129
        },
        "id": "JqJv0qKpyYJm",
        "outputId": "5fc9a6fc-5f0b-4fc3-9f1f-c24b7987f797"
      },
      "execution_count": 11,
      "outputs": [
        {
          "output_type": "stream",
          "name": "stderr",
          "text": [
            "/usr/local/lib/python3.8/dist-packages/sklearn/utils/validation.py:1143: DataConversionWarning: A column-vector y was passed when a 1d array was expected. Please change the shape of y to (n_samples, ), for example using ravel().\n",
            "  y = column_or_1d(y, warn=True)\n"
          ]
        },
        {
          "output_type": "execute_result",
          "data": {
            "text/plain": [
              "GaussianNB()"
            ],
            "text/html": [
              "<style>#sk-container-id-2 {color: black;background-color: white;}#sk-container-id-2 pre{padding: 0;}#sk-container-id-2 div.sk-toggleable {background-color: white;}#sk-container-id-2 label.sk-toggleable__label {cursor: pointer;display: block;width: 100%;margin-bottom: 0;padding: 0.3em;box-sizing: border-box;text-align: center;}#sk-container-id-2 label.sk-toggleable__label-arrow:before {content: \"▸\";float: left;margin-right: 0.25em;color: #696969;}#sk-container-id-2 label.sk-toggleable__label-arrow:hover:before {color: black;}#sk-container-id-2 div.sk-estimator:hover label.sk-toggleable__label-arrow:before {color: black;}#sk-container-id-2 div.sk-toggleable__content {max-height: 0;max-width: 0;overflow: hidden;text-align: left;background-color: #f0f8ff;}#sk-container-id-2 div.sk-toggleable__content pre {margin: 0.2em;color: black;border-radius: 0.25em;background-color: #f0f8ff;}#sk-container-id-2 input.sk-toggleable__control:checked~div.sk-toggleable__content {max-height: 200px;max-width: 100%;overflow: auto;}#sk-container-id-2 input.sk-toggleable__control:checked~label.sk-toggleable__label-arrow:before {content: \"▾\";}#sk-container-id-2 div.sk-estimator input.sk-toggleable__control:checked~label.sk-toggleable__label {background-color: #d4ebff;}#sk-container-id-2 div.sk-label input.sk-toggleable__control:checked~label.sk-toggleable__label {background-color: #d4ebff;}#sk-container-id-2 input.sk-hidden--visually {border: 0;clip: rect(1px 1px 1px 1px);clip: rect(1px, 1px, 1px, 1px);height: 1px;margin: -1px;overflow: hidden;padding: 0;position: absolute;width: 1px;}#sk-container-id-2 div.sk-estimator {font-family: monospace;background-color: #f0f8ff;border: 1px dotted black;border-radius: 0.25em;box-sizing: border-box;margin-bottom: 0.5em;}#sk-container-id-2 div.sk-estimator:hover {background-color: #d4ebff;}#sk-container-id-2 div.sk-parallel-item::after {content: \"\";width: 100%;border-bottom: 1px solid gray;flex-grow: 1;}#sk-container-id-2 div.sk-label:hover label.sk-toggleable__label {background-color: #d4ebff;}#sk-container-id-2 div.sk-serial::before {content: \"\";position: absolute;border-left: 1px solid gray;box-sizing: border-box;top: 0;bottom: 0;left: 50%;z-index: 0;}#sk-container-id-2 div.sk-serial {display: flex;flex-direction: column;align-items: center;background-color: white;padding-right: 0.2em;padding-left: 0.2em;position: relative;}#sk-container-id-2 div.sk-item {position: relative;z-index: 1;}#sk-container-id-2 div.sk-parallel {display: flex;align-items: stretch;justify-content: center;background-color: white;position: relative;}#sk-container-id-2 div.sk-item::before, #sk-container-id-2 div.sk-parallel-item::before {content: \"\";position: absolute;border-left: 1px solid gray;box-sizing: border-box;top: 0;bottom: 0;left: 50%;z-index: -1;}#sk-container-id-2 div.sk-parallel-item {display: flex;flex-direction: column;z-index: 1;position: relative;background-color: white;}#sk-container-id-2 div.sk-parallel-item:first-child::after {align-self: flex-end;width: 50%;}#sk-container-id-2 div.sk-parallel-item:last-child::after {align-self: flex-start;width: 50%;}#sk-container-id-2 div.sk-parallel-item:only-child::after {width: 0;}#sk-container-id-2 div.sk-dashed-wrapped {border: 1px dashed gray;margin: 0 0.4em 0.5em 0.4em;box-sizing: border-box;padding-bottom: 0.4em;background-color: white;}#sk-container-id-2 div.sk-label label {font-family: monospace;font-weight: bold;display: inline-block;line-height: 1.2em;}#sk-container-id-2 div.sk-label-container {text-align: center;}#sk-container-id-2 div.sk-container {/* jupyter's `normalize.less` sets `[hidden] { display: none; }` but bootstrap.min.css set `[hidden] { display: none !important; }` so we also need the `!important` here to be able to override the default hidden behavior on the sphinx rendered scikit-learn.org. See: https://github.com/scikit-learn/scikit-learn/issues/21755 */display: inline-block !important;position: relative;}#sk-container-id-2 div.sk-text-repr-fallback {display: none;}</style><div id=\"sk-container-id-2\" class=\"sk-top-container\"><div class=\"sk-text-repr-fallback\"><pre>GaussianNB()</pre><b>In a Jupyter environment, please rerun this cell to show the HTML representation or trust the notebook. <br />On GitHub, the HTML representation is unable to render, please try loading this page with nbviewer.org.</b></div><div class=\"sk-container\" hidden><div class=\"sk-item\"><div class=\"sk-estimator sk-toggleable\"><input class=\"sk-toggleable__control sk-hidden--visually\" id=\"sk-estimator-id-2\" type=\"checkbox\" checked><label for=\"sk-estimator-id-2\" class=\"sk-toggleable__label sk-toggleable__label-arrow\">GaussianNB</label><div class=\"sk-toggleable__content\"><pre>GaussianNB()</pre></div></div></div></div></div>"
            ]
          },
          "metadata": {},
          "execution_count": 11
        }
      ]
    },
    {
      "cell_type": "markdown",
      "source": [
        "**Prediction Analysis**"
      ],
      "metadata": {
        "id": "t43j7zkPygOB"
      }
    },
    {
      "cell_type": "code",
      "source": [
        "y_pred = gnb.predict(X_test)\n",
        "print(\"Accuracy:\",accuracy_score(y_test,y_pred))"
      ],
      "metadata": {
        "colab": {
          "base_uri": "https://localhost:8080/"
        },
        "id": "OiXuhOFzyjBo",
        "outputId": "137bda0f-6c42-442f-f574-e993889ba358"
      },
      "execution_count": 12,
      "outputs": [
        {
          "output_type": "stream",
          "name": "stdout",
          "text": [
            "Accuracy: 0.8284023668639053\n"
          ]
        }
      ]
    },
    {
      "cell_type": "markdown",
      "source": [
        "#Classification model using User-Defined Classifier"
      ],
      "metadata": {
        "id": "T9gqs_KKyoMO"
      }
    },
    {
      "cell_type": "markdown",
      "source": [
        "**Import tools**"
      ],
      "metadata": {
        "id": "6WaeMnYZyq8o"
      }
    },
    {
      "cell_type": "code",
      "source": [
        "import numpy as np\n",
        "import pandas as pd\n",
        "# Quick value count calculator\n",
        "from collections import Counter"
      ],
      "metadata": {
        "id": "tYhBZAFvyttG"
      },
      "execution_count": 13,
      "outputs": []
    },
    {
      "cell_type": "code",
      "source": [
        "class Node: \n",
        "    \"\"\"\n",
        "    Class for creating the nodes for a decision tree \n",
        "    \"\"\"\n",
        "    def __init__(\n",
        "        self, \n",
        "        Y: list,\n",
        "        X: pd.DataFrame,\n",
        "        min_samples_split=None,\n",
        "        max_depth=None,\n",
        "        depth=None,\n",
        "        node_type=None,\n",
        "        rule=None\n",
        "    ):\n",
        "        # Saving the data to the node \n",
        "        self.Y = Y \n",
        "        self.X = X\n",
        "\n",
        "        # Saving the hyper parameters\n",
        "        self.min_samples_split = min_samples_split if min_samples_split else 20\n",
        "        self.max_depth = max_depth if max_depth else 5\n",
        "\n",
        "        # Default current depth of node \n",
        "        self.depth = depth if depth else 0\n",
        "\n",
        "        # Extracting all the features\n",
        "        self.features = list(self.X.columns)\n",
        "\n",
        "        # Type of node \n",
        "        self.node_type = node_type if node_type else 'root'\n",
        "\n",
        "        # Rule for spliting \n",
        "        self.rule = rule if rule else \"\"\n",
        "\n",
        "        # Calculating the counts of Y in the node \n",
        "        self.counts = Counter(Y)\n",
        "\n",
        "        # Getting the GINI impurity based on the Y distribution\n",
        "        self.gini_impurity = self.get_GINI()\n",
        "\n",
        "        # Sorting the counts and saving the final prediction of the node \n",
        "        counts_sorted = list(sorted(self.counts.items(), key=lambda item: item[1]))\n",
        "\n",
        "        # Getting the last item\n",
        "        yhat = None\n",
        "        if len(counts_sorted) > 0:\n",
        "            yhat = counts_sorted[-1][0]\n",
        "\n",
        "        # Saving to object attribute. This node will predict the class with the most frequent class\n",
        "        self.yhat = yhat \n",
        "\n",
        "        # Saving the number of observations in the node \n",
        "        self.n = len(Y)\n",
        "\n",
        "        # Initiating the left and right nodes as empty nodes\n",
        "        self.left = None \n",
        "        self.right = None \n",
        "\n",
        "        # Default values for splits\n",
        "        self.best_feature = None \n",
        "        self.best_value = None \n",
        "\n",
        "    @staticmethod\n",
        "    def GINI_impurity(y1_count: int, y2_count: int) -> float:\n",
        "        \"\"\"\n",
        "        Given the observations of a binary class calculate the GINI impurity\n",
        "        \"\"\"\n",
        "        # Ensuring the correct types\n",
        "        if y1_count is None:\n",
        "            y1_count = 0\n",
        "\n",
        "        if y2_count is None:\n",
        "            y2_count = 0\n",
        "\n",
        "        # Getting the total observations\n",
        "        n = y1_count + y2_count\n",
        "        \n",
        "        # If n is 0 then we return the lowest possible gini impurity\n",
        "        if n == 0:\n",
        "            return 0.0\n",
        "\n",
        "        # Getting the probability to see each of the classes\n",
        "        p1 = y1_count / n\n",
        "        p2 = y2_count / n\n",
        "        \n",
        "        # Calculating GINI \n",
        "        gini = 1 - (p1 ** 2 + p2 ** 2)\n",
        "        \n",
        "        # Returning the gini impurity\n",
        "        return gini\n",
        "\n",
        "    @staticmethod\n",
        "    def ma(x: np.array, window: int) -> np.array:\n",
        "        \"\"\"\n",
        "        Calculates the moving average of the given list. \n",
        "        \"\"\"\n",
        "        return np.convolve(x, np.ones(window), 'valid') / window\n",
        "\n",
        "    def get_GINI(self):\n",
        "        \"\"\"\n",
        "        Function to calculate the GINI impurity of a node \n",
        "        \"\"\"\n",
        "        # Getting the 0 and 1 counts\n",
        "        y1_count, y2_count = self.counts.get(0, 0), self.counts.get(1, 0)\n",
        "\n",
        "        # Getting the GINI impurity\n",
        "        return self.GINI_impurity(y1_count, y2_count)\n",
        "\n",
        "    def best_split(self) -> tuple:\n",
        "        \"\"\"\n",
        "        Given the X features and Y targets calculates the best split \n",
        "        for a decision tree\n",
        "        \"\"\"\n",
        "        # Creating a dataset for spliting\n",
        "        df = self.X.copy()\n",
        "        df['Y'] = self.Y\n",
        "\n",
        "        # Getting the GINI impurity for the base input \n",
        "        GINI_base = self.get_GINI()\n",
        "\n",
        "        # Finding which split yields the best GINI gain \n",
        "        max_gain = 0\n",
        "\n",
        "        # Default best feature and split\n",
        "        best_feature = None\n",
        "        best_value = None\n",
        "\n",
        "        for feature in self.features:\n",
        "            # Droping missing values\n",
        "            Xdf = df.dropna().sort_values(feature)\n",
        "\n",
        "            # Sorting the values and getting the rolling average\n",
        "            xmeans = self.ma(Xdf[feature].unique(), 2)\n",
        "\n",
        "            for value in xmeans:\n",
        "                # Spliting the dataset \n",
        "                left_counts = Counter(Xdf[Xdf[feature]<value]['Y'])\n",
        "                right_counts = Counter(Xdf[Xdf[feature]>=value]['Y'])\n",
        "\n",
        "                # Getting the Y distribution from the dicts\n",
        "                y0_left, y1_left, y0_right, y1_right = left_counts.get(0, 0), left_counts.get(1, 0), right_counts.get(0, 0), right_counts.get(1, 0)\n",
        "\n",
        "                # Getting the left and right gini impurities\n",
        "                gini_left = self.GINI_impurity(y0_left, y1_left)\n",
        "                gini_right = self.GINI_impurity(y0_right, y1_right)\n",
        "\n",
        "                # Getting the obs count from the left and the right data splits\n",
        "                n_left = y0_left + y1_left\n",
        "                n_right = y0_right + y1_right\n",
        "\n",
        "                # Calculating the weights for each of the nodes\n",
        "                w_left = n_left / (n_left + n_right)\n",
        "                w_right = n_right / (n_left + n_right)\n",
        "\n",
        "                # Calculating the weighted GINI impurity\n",
        "                wGINI = w_left * gini_left + w_right * gini_right\n",
        "\n",
        "                # Calculating the GINI gain \n",
        "                GINIgain = GINI_base - wGINI\n",
        "\n",
        "                # Checking if this is the best split so far \n",
        "                if GINIgain > max_gain:\n",
        "                    best_feature = feature\n",
        "                    best_value = value \n",
        "\n",
        "                    # Setting the best gain to the current one \n",
        "                    max_gain = GINIgain\n",
        "\n",
        "        return (best_feature, best_value)\n",
        "\n",
        "    def grow_tree(self):\n",
        "        \"\"\"\n",
        "        Recursive method to create the decision tree\n",
        "        \"\"\"\n",
        "        # Making a df from the data \n",
        "        df = self.X.copy()\n",
        "        df['Y'] = self.Y\n",
        "\n",
        "        # If there is GINI to be gained, we split further \n",
        "        if (self.depth < self.max_depth) and (self.n >= self.min_samples_split):\n",
        "\n",
        "            # Getting the best split \n",
        "            best_feature, best_value = self.best_split()\n",
        "\n",
        "            if best_feature is not None:\n",
        "                # Saving the best split to the current node \n",
        "                self.best_feature = best_feature\n",
        "                self.best_value = best_value\n",
        "\n",
        "                # Getting the left and right nodes\n",
        "                left_df, right_df = df[df[best_feature]<=best_value].copy(), df[df[best_feature]>best_value].copy()\n",
        "\n",
        "                # Creating the left and right nodes\n",
        "                left = Node(\n",
        "                    left_df['Y'].values.tolist(), \n",
        "                    left_df[self.features], \n",
        "                    depth=self.depth + 1, \n",
        "                    max_depth=self.max_depth, \n",
        "                    min_samples_split=self.min_samples_split, \n",
        "                    node_type='left_node',\n",
        "                    rule=f\"{best_feature} <= {round(best_value, 3)}\"\n",
        "                    )\n",
        "\n",
        "                self.left = left \n",
        "                self.left.grow_tree()\n",
        "\n",
        "                right = Node(\n",
        "                    right_df['Y'].values.tolist(), \n",
        "                    right_df[self.features], \n",
        "                    depth=self.depth + 1, \n",
        "                    max_depth=self.max_depth, \n",
        "                    min_samples_split=self.min_samples_split,\n",
        "                    node_type='right_node',\n",
        "                    rule=f\"{best_feature} > {round(best_value, 3)}\"\n",
        "                    )\n",
        "\n",
        "                self.right = right\n",
        "                self.right.grow_tree()\n",
        "\n",
        "    def print_info(self, width=4):\n",
        "        \"\"\"\n",
        "        Method to print the infromation about the tree\n",
        "        \"\"\"\n",
        "        # Defining the number of spaces \n",
        "        const = int(self.depth * width ** 1.5)\n",
        "        spaces = \"-\" * const\n",
        "        \n",
        "        if self.node_type == 'root':\n",
        "            print(\"Root\")\n",
        "        else:\n",
        "            print(f\"|{spaces} Split rule: {self.rule}\")\n",
        "        print(f\"{' ' * const}   | GINI impurity of the node: {round(self.gini_impurity, 2)}\")\n",
        "        print(f\"{' ' * const}   | Class distribution in the node: {dict(self.counts)}\")\n",
        "        print(f\"{' ' * const}   | Predicted class: {self.yhat}\")   \n",
        "\n",
        "    def print_tree(self):\n",
        "        \"\"\"\n",
        "        Prints the whole tree from the current node to the bottom\n",
        "        \"\"\"\n",
        "        self.print_info() \n",
        "        \n",
        "        if self.left is not None: \n",
        "            self.left.print_tree()\n",
        "        \n",
        "        if self.right is not None:\n",
        "            self.right.print_tree()\n",
        "\n",
        "    def predict(self, X:pd.DataFrame):\n",
        "        \"\"\"\n",
        "        Batch prediction method\n",
        "        \"\"\"\n",
        "        predictions = []\n",
        "\n",
        "        for _, x in X.iterrows():\n",
        "            values = {}\n",
        "            for feature in self.features:\n",
        "                values.update({feature: x[feature]})\n",
        "        \n",
        "            predictions.append(self.predict_obs(values))\n",
        "        \n",
        "        return predictions\n",
        "\n",
        "    def predict_obs(self, values: dict) -> int:\n",
        "        \"\"\"\n",
        "        Method to predict the class given a set of features\n",
        "        \"\"\"\n",
        "        cur_node = self\n",
        "        while cur_node.depth < cur_node.max_depth:\n",
        "            # Traversing the nodes all the way to the bottom\n",
        "            best_feature = cur_node.best_feature\n",
        "            best_value = cur_node.best_value\n",
        "\n",
        "            if cur_node.n < cur_node.min_samples_split:\n",
        "                break \n",
        "\n",
        "            if (values.get(best_feature) < best_value):\n",
        "                if self.left is not None:\n",
        "                    cur_node = cur_node.left\n",
        "            else:\n",
        "                if self.right is not None:\n",
        "                    cur_node = cur_node.right\n",
        "            \n",
        "        return cur_node.yhat"
      ],
      "metadata": {
        "id": "tpQ8muhWywGk"
      },
      "execution_count": 14,
      "outputs": []
    },
    {
      "cell_type": "markdown",
      "source": [
        "**Loading Data**"
      ],
      "metadata": {
        "id": "TX2OZbLfy6vb"
      }
    },
    {
      "cell_type": "code",
      "source": [
        "# Reading data\n",
        "data = pd.read_csv(\"loan_data.csv\").dropna()\n",
        "data.head(5)"
      ],
      "metadata": {
        "colab": {
          "base_uri": "https://localhost:8080/",
          "height": 250
        },
        "id": "eIiVBjdry8AB",
        "outputId": "6111aa28-d92d-4a2f-df07-1e1c8e8fe05e"
      },
      "execution_count": 15,
      "outputs": [
        {
          "output_type": "execute_result",
          "data": {
            "text/plain": [
              "   credit.policy             purpose  int.rate  installment  log.annual.inc  \\\n",
              "0              1  debt_consolidation    0.1189       829.10       11.350407   \n",
              "1              1         credit_card    0.1071       228.22       11.082143   \n",
              "2              1  debt_consolidation    0.1357       366.86       10.373491   \n",
              "3              1  debt_consolidation    0.1008       162.34       11.350407   \n",
              "4              1         credit_card    0.1426       102.92       11.299732   \n",
              "\n",
              "     dti   fico  days.with.cr.line  revol.bal  revol.util  inq.last.6mths  \\\n",
              "0  19.48  737.0        5639.958333      28854        52.1               0   \n",
              "1  14.29  707.0        2760.000000      33623        76.7               0   \n",
              "2  11.63  682.0        4710.000000       3511        25.6               1   \n",
              "3   8.10  712.0        2699.958333      33667        73.2               1   \n",
              "4  14.97  667.0        4066.000000       4740        39.5               0   \n",
              "\n",
              "   delinq.2yrs  pub.rec  not.fully.paid  \n",
              "0            0        0               0  \n",
              "1            0        0               0  \n",
              "2            0        0               0  \n",
              "3            0        0               0  \n",
              "4            1        0               0  "
            ],
            "text/html": [
              "\n",
              "  <div id=\"df-e681ca64-ccd7-4ed4-ba02-0d4de31b54a4\">\n",
              "    <div class=\"colab-df-container\">\n",
              "      <div>\n",
              "<style scoped>\n",
              "    .dataframe tbody tr th:only-of-type {\n",
              "        vertical-align: middle;\n",
              "    }\n",
              "\n",
              "    .dataframe tbody tr th {\n",
              "        vertical-align: top;\n",
              "    }\n",
              "\n",
              "    .dataframe thead th {\n",
              "        text-align: right;\n",
              "    }\n",
              "</style>\n",
              "<table border=\"1\" class=\"dataframe\">\n",
              "  <thead>\n",
              "    <tr style=\"text-align: right;\">\n",
              "      <th></th>\n",
              "      <th>credit.policy</th>\n",
              "      <th>purpose</th>\n",
              "      <th>int.rate</th>\n",
              "      <th>installment</th>\n",
              "      <th>log.annual.inc</th>\n",
              "      <th>dti</th>\n",
              "      <th>fico</th>\n",
              "      <th>days.with.cr.line</th>\n",
              "      <th>revol.bal</th>\n",
              "      <th>revol.util</th>\n",
              "      <th>inq.last.6mths</th>\n",
              "      <th>delinq.2yrs</th>\n",
              "      <th>pub.rec</th>\n",
              "      <th>not.fully.paid</th>\n",
              "    </tr>\n",
              "  </thead>\n",
              "  <tbody>\n",
              "    <tr>\n",
              "      <th>0</th>\n",
              "      <td>1</td>\n",
              "      <td>debt_consolidation</td>\n",
              "      <td>0.1189</td>\n",
              "      <td>829.10</td>\n",
              "      <td>11.350407</td>\n",
              "      <td>19.48</td>\n",
              "      <td>737.0</td>\n",
              "      <td>5639.958333</td>\n",
              "      <td>28854</td>\n",
              "      <td>52.1</td>\n",
              "      <td>0</td>\n",
              "      <td>0</td>\n",
              "      <td>0</td>\n",
              "      <td>0</td>\n",
              "    </tr>\n",
              "    <tr>\n",
              "      <th>1</th>\n",
              "      <td>1</td>\n",
              "      <td>credit_card</td>\n",
              "      <td>0.1071</td>\n",
              "      <td>228.22</td>\n",
              "      <td>11.082143</td>\n",
              "      <td>14.29</td>\n",
              "      <td>707.0</td>\n",
              "      <td>2760.000000</td>\n",
              "      <td>33623</td>\n",
              "      <td>76.7</td>\n",
              "      <td>0</td>\n",
              "      <td>0</td>\n",
              "      <td>0</td>\n",
              "      <td>0</td>\n",
              "    </tr>\n",
              "    <tr>\n",
              "      <th>2</th>\n",
              "      <td>1</td>\n",
              "      <td>debt_consolidation</td>\n",
              "      <td>0.1357</td>\n",
              "      <td>366.86</td>\n",
              "      <td>10.373491</td>\n",
              "      <td>11.63</td>\n",
              "      <td>682.0</td>\n",
              "      <td>4710.000000</td>\n",
              "      <td>3511</td>\n",
              "      <td>25.6</td>\n",
              "      <td>1</td>\n",
              "      <td>0</td>\n",
              "      <td>0</td>\n",
              "      <td>0</td>\n",
              "    </tr>\n",
              "    <tr>\n",
              "      <th>3</th>\n",
              "      <td>1</td>\n",
              "      <td>debt_consolidation</td>\n",
              "      <td>0.1008</td>\n",
              "      <td>162.34</td>\n",
              "      <td>11.350407</td>\n",
              "      <td>8.10</td>\n",
              "      <td>712.0</td>\n",
              "      <td>2699.958333</td>\n",
              "      <td>33667</td>\n",
              "      <td>73.2</td>\n",
              "      <td>1</td>\n",
              "      <td>0</td>\n",
              "      <td>0</td>\n",
              "      <td>0</td>\n",
              "    </tr>\n",
              "    <tr>\n",
              "      <th>4</th>\n",
              "      <td>1</td>\n",
              "      <td>credit_card</td>\n",
              "      <td>0.1426</td>\n",
              "      <td>102.92</td>\n",
              "      <td>11.299732</td>\n",
              "      <td>14.97</td>\n",
              "      <td>667.0</td>\n",
              "      <td>4066.000000</td>\n",
              "      <td>4740</td>\n",
              "      <td>39.5</td>\n",
              "      <td>0</td>\n",
              "      <td>1</td>\n",
              "      <td>0</td>\n",
              "      <td>0</td>\n",
              "    </tr>\n",
              "  </tbody>\n",
              "</table>\n",
              "</div>\n",
              "      <button class=\"colab-df-convert\" onclick=\"convertToInteractive('df-e681ca64-ccd7-4ed4-ba02-0d4de31b54a4')\"\n",
              "              title=\"Convert this dataframe to an interactive table.\"\n",
              "              style=\"display:none;\">\n",
              "        \n",
              "  <svg xmlns=\"http://www.w3.org/2000/svg\" height=\"24px\"viewBox=\"0 0 24 24\"\n",
              "       width=\"24px\">\n",
              "    <path d=\"M0 0h24v24H0V0z\" fill=\"none\"/>\n",
              "    <path d=\"M18.56 5.44l.94 2.06.94-2.06 2.06-.94-2.06-.94-.94-2.06-.94 2.06-2.06.94zm-11 1L8.5 8.5l.94-2.06 2.06-.94-2.06-.94L8.5 2.5l-.94 2.06-2.06.94zm10 10l.94 2.06.94-2.06 2.06-.94-2.06-.94-.94-2.06-.94 2.06-2.06.94z\"/><path d=\"M17.41 7.96l-1.37-1.37c-.4-.4-.92-.59-1.43-.59-.52 0-1.04.2-1.43.59L10.3 9.45l-7.72 7.72c-.78.78-.78 2.05 0 2.83L4 21.41c.39.39.9.59 1.41.59.51 0 1.02-.2 1.41-.59l7.78-7.78 2.81-2.81c.8-.78.8-2.07 0-2.86zM5.41 20L4 18.59l7.72-7.72 1.47 1.35L5.41 20z\"/>\n",
              "  </svg>\n",
              "      </button>\n",
              "      \n",
              "  <style>\n",
              "    .colab-df-container {\n",
              "      display:flex;\n",
              "      flex-wrap:wrap;\n",
              "      gap: 12px;\n",
              "    }\n",
              "\n",
              "    .colab-df-convert {\n",
              "      background-color: #E8F0FE;\n",
              "      border: none;\n",
              "      border-radius: 50%;\n",
              "      cursor: pointer;\n",
              "      display: none;\n",
              "      fill: #1967D2;\n",
              "      height: 32px;\n",
              "      padding: 0 0 0 0;\n",
              "      width: 32px;\n",
              "    }\n",
              "\n",
              "    .colab-df-convert:hover {\n",
              "      background-color: #E2EBFA;\n",
              "      box-shadow: 0px 1px 2px rgba(60, 64, 67, 0.3), 0px 1px 3px 1px rgba(60, 64, 67, 0.15);\n",
              "      fill: #174EA6;\n",
              "    }\n",
              "\n",
              "    [theme=dark] .colab-df-convert {\n",
              "      background-color: #3B4455;\n",
              "      fill: #D2E3FC;\n",
              "    }\n",
              "\n",
              "    [theme=dark] .colab-df-convert:hover {\n",
              "      background-color: #434B5C;\n",
              "      box-shadow: 0px 1px 3px 1px rgba(0, 0, 0, 0.15);\n",
              "      filter: drop-shadow(0px 1px 2px rgba(0, 0, 0, 0.3));\n",
              "      fill: #FFFFFF;\n",
              "    }\n",
              "  </style>\n",
              "\n",
              "      <script>\n",
              "        const buttonEl =\n",
              "          document.querySelector('#df-e681ca64-ccd7-4ed4-ba02-0d4de31b54a4 button.colab-df-convert');\n",
              "        buttonEl.style.display =\n",
              "          google.colab.kernel.accessAllowed ? 'block' : 'none';\n",
              "\n",
              "        async function convertToInteractive(key) {\n",
              "          const element = document.querySelector('#df-e681ca64-ccd7-4ed4-ba02-0d4de31b54a4');\n",
              "          const dataTable =\n",
              "            await google.colab.kernel.invokeFunction('convertToInteractive',\n",
              "                                                     [key], {});\n",
              "          if (!dataTable) return;\n",
              "\n",
              "          const docLinkHtml = 'Like what you see? Visit the ' +\n",
              "            '<a target=\"_blank\" href=https://colab.research.google.com/notebooks/data_table.ipynb>data table notebook</a>'\n",
              "            + ' to learn more about interactive tables.';\n",
              "          element.innerHTML = '';\n",
              "          dataTable['output_type'] = 'display_data';\n",
              "          await google.colab.output.renderOutput(dataTable, element);\n",
              "          const docLink = document.createElement('div');\n",
              "          docLink.innerHTML = docLinkHtml;\n",
              "          element.appendChild(docLink);\n",
              "        }\n",
              "      </script>\n",
              "    </div>\n",
              "  </div>\n",
              "  "
            ]
          },
          "metadata": {},
          "execution_count": 15
        }
      ]
    },
    {
      "cell_type": "markdown",
      "source": [
        "**Train-Test split**"
      ],
      "metadata": {
        "id": "OiF-0ZWxzCc3"
      }
    },
    {
      "cell_type": "code",
      "source": [
        "X = data.iloc[:, :-1].values\n",
        "Y = data.iloc[:, -1].values.reshape(-1,1)\n",
        "from sklearn.model_selection import train_test_split\n",
        "train, test = train_test_split(data, test_size=0.2)"
      ],
      "metadata": {
        "id": "ETBG2XEJzE6Y"
      },
      "execution_count": 16,
      "outputs": []
    },
    {
      "cell_type": "markdown",
      "source": [
        "**Training**"
      ],
      "metadata": {
        "id": "At_sdaxlzHzF"
      }
    },
    {
      "cell_type": "code",
      "source": [
        "# Constructing the X and Y matrices\n",
        "X = train[['int.rate', 'installment', 'log.annual.inc','dti','fico','days.with.cr.line','revol.bal','revol.util','inq.last.6mths','delinq.2yrs','pub.rec']]\n",
        "Y = train['not.fully.paid'].values.tolist()\n",
        "\n",
        "# Initiating the Node\n",
        "root = Node(Y, X, max_depth=3, min_samples_split=100)\n",
        "\n",
        "# Getting the best split\n",
        "root.grow_tree()\n",
        "\n",
        "# Printing the tree information \n",
        "root.print_tree()"
      ],
      "metadata": {
        "colab": {
          "base_uri": "https://localhost:8080/"
        },
        "id": "Zs1O0yMpzKHp",
        "outputId": "75df4373-accc-4513-db37-880a6f127f10"
      },
      "execution_count": 20,
      "outputs": [
        {
          "output_type": "stream",
          "name": "stdout",
          "text": [
            "Root\n",
            "   | GINI impurity of the node: 0.27\n",
            "   | Class distribution in the node: {0: 6422, 1: 1238}\n",
            "   | Predicted class: 0\n",
            "|-------- Split rule: int.rate <= 0.093\n",
            "           | GINI impurity of the node: 0.1\n",
            "           | Class distribution in the node: {0: 1260, 1: 72}\n",
            "           | Predicted class: 0\n",
            "|---------------- Split rule: log.annual.inc <= 8.883\n",
            "                   | GINI impurity of the node: 0.48\n",
            "                   | Class distribution in the node: {1: 3, 0: 2}\n",
            "                   | Predicted class: 1\n",
            "|---------------- Split rule: log.annual.inc > 8.883\n",
            "                   | GINI impurity of the node: 0.1\n",
            "                   | Class distribution in the node: {0: 1258, 1: 69}\n",
            "                   | Predicted class: 0\n",
            "|------------------------ Split rule: installment <= 558.205\n",
            "                           | GINI impurity of the node: 0.09\n",
            "                           | Class distribution in the node: {0: 1252, 1: 65}\n",
            "                           | Predicted class: 0\n",
            "|------------------------ Split rule: installment > 558.205\n",
            "                           | GINI impurity of the node: 0.48\n",
            "                           | Class distribution in the node: {1: 4, 0: 6}\n",
            "                           | Predicted class: 0\n",
            "|-------- Split rule: int.rate > 0.093\n",
            "           | GINI impurity of the node: 0.3\n",
            "           | Class distribution in the node: {0: 5162, 1: 1166}\n",
            "           | Predicted class: 0\n",
            "|---------------- Split rule: inq.last.6mths <= 2.5\n",
            "                   | GINI impurity of the node: 0.27\n",
            "                   | Class distribution in the node: {0: 4044, 1: 755}\n",
            "                   | Predicted class: 0\n",
            "|------------------------ Split rule: int.rate <= 0.161\n",
            "                           | GINI impurity of the node: 0.25\n",
            "                           | Class distribution in the node: {0: 3802, 1: 663}\n",
            "                           | Predicted class: 0\n",
            "|------------------------ Split rule: int.rate > 0.161\n",
            "                           | GINI impurity of the node: 0.4\n",
            "                           | Class distribution in the node: {1: 92, 0: 242}\n",
            "                           | Predicted class: 0\n",
            "|---------------- Split rule: inq.last.6mths > 2.5\n",
            "                   | GINI impurity of the node: 0.39\n",
            "                   | Class distribution in the node: {0: 1118, 1: 411}\n",
            "                   | Predicted class: 0\n",
            "|------------------------ Split rule: inq.last.6mths <= 5.5\n",
            "                           | GINI impurity of the node: 0.36\n",
            "                           | Class distribution in the node: {0: 877, 1: 272}\n",
            "                           | Predicted class: 0\n",
            "|------------------------ Split rule: inq.last.6mths > 5.5\n",
            "                           | GINI impurity of the node: 0.46\n",
            "                           | Class distribution in the node: {0: 241, 1: 139}\n",
            "                           | Predicted class: 0\n"
          ]
        }
      ]
    },
    {
      "cell_type": "markdown",
      "source": [
        "**Prediction Analysis**"
      ],
      "metadata": {
        "id": "m0rDEGA0zP9i"
      }
    },
    {
      "cell_type": "code",
      "source": [
        "# Predicting \n",
        "pred = root.predict(test)\n",
        "actual = list(test['not.fully.paid'])\n",
        "accuracy = sum(1 for x,y in zip(actual,pred) if x == y) / len(actual)\n",
        "print(\"Accuracy:\",accuracy)"
      ],
      "metadata": {
        "colab": {
          "base_uri": "https://localhost:8080/"
        },
        "id": "zeYjJgwlzRsl",
        "outputId": "6571b812-6a74-46d4-e517-70b9c9b8009b"
      },
      "execution_count": 21,
      "outputs": [
        {
          "output_type": "stream",
          "name": "stdout",
          "text": [
            "Accuracy: 0.8465553235908142\n"
          ]
        }
      ]
    }
  ]
}